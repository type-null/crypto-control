{
 "cells": [
  {
   "cell_type": "markdown",
   "metadata": {},
   "source": [
    "# CUSUM trading techniques for Cryptos\n",
    "\n",
    "## 1. Lam and Yam (1997)\n",
    "CUSUM based filter trading strategy.\n",
    "\n",
    "### Load data\n",
    "Watch list: top nine cryptocurrencies (ranked by market capitalization) plus Dogecoin, as of November 2021\n",
    "+ Bitcoin, Ethereum, Solana, Ripple, Binance Coin, Tether, Cardano, Polkadot, Terra, Dogecoin"
   ]
  },
  {
   "cell_type": "code",
   "execution_count": 1,
   "metadata": {},
   "outputs": [],
   "source": [
    "# install pmdarima library\n",
    "# !pip install pmdarima"
   ]
  },
  {
   "cell_type": "code",
   "execution_count": 2,
   "metadata": {},
   "outputs": [],
   "source": [
    "%matplotlib inline\n",
    "\n",
    "import warnings\n",
    "import numpy as np\n",
    "import pandas as pd\n",
    "import seaborn as sns\n",
    "import matplotlib.pyplot as plt\n",
    "from datetime import timedelta\n",
    "from pmdarima.arima import auto_arima\n",
    "from statsmodels.tsa.arima.model import ARIMA\n",
    "from pandas.plotting import autocorrelation_plot\n",
    "\n",
    "\n",
    "# just set the seed for the random number generator\n",
    "np.random.seed(107)\n",
    "\n",
    "plt.rcParams['figure.figsize'] = (16, 9)\n",
    "warnings.filterwarnings('ignore')"
   ]
  },
  {
   "cell_type": "code",
   "execution_count": 3,
   "metadata": {},
   "outputs": [
    {
     "data": {
      "text/html": [
       "<div>\n",
       "<style scoped>\n",
       "    .dataframe tbody tr th:only-of-type {\n",
       "        vertical-align: middle;\n",
       "    }\n",
       "\n",
       "    .dataframe tbody tr th {\n",
       "        vertical-align: top;\n",
       "    }\n",
       "\n",
       "    .dataframe thead th {\n",
       "        text-align: right;\n",
       "    }\n",
       "</style>\n",
       "<table border=\"1\" class=\"dataframe\">\n",
       "  <thead>\n",
       "    <tr style=\"text-align: right;\">\n",
       "      <th></th>\n",
       "      <th>BTC</th>\n",
       "      <th>ETH</th>\n",
       "      <th>SOL</th>\n",
       "      <th>XRP</th>\n",
       "      <th>BNB</th>\n",
       "      <th>USDT</th>\n",
       "      <th>ADA</th>\n",
       "      <th>DOT</th>\n",
       "      <th>LUNA</th>\n",
       "      <th>DOGE</th>\n",
       "    </tr>\n",
       "    <tr>\n",
       "      <th>time</th>\n",
       "      <th></th>\n",
       "      <th></th>\n",
       "      <th></th>\n",
       "      <th></th>\n",
       "      <th></th>\n",
       "      <th></th>\n",
       "      <th></th>\n",
       "      <th></th>\n",
       "      <th></th>\n",
       "      <th></th>\n",
       "    </tr>\n",
       "  </thead>\n",
       "  <tbody>\n",
       "    <tr>\n",
       "      <th>2020-11-01 01:00:00</th>\n",
       "      <td>13770.78</td>\n",
       "      <td>389.16</td>\n",
       "      <td>1.556</td>\n",
       "      <td>0.2403</td>\n",
       "      <td>28.59</td>\n",
       "      <td>1.002</td>\n",
       "      <td>0.09378</td>\n",
       "      <td>4.194</td>\n",
       "      <td>0.3030</td>\n",
       "      <td>0.002549</td>\n",
       "    </tr>\n",
       "    <tr>\n",
       "      <th>2020-11-01 02:00:00</th>\n",
       "      <td>13721.73</td>\n",
       "      <td>387.91</td>\n",
       "      <td>1.553</td>\n",
       "      <td>0.2393</td>\n",
       "      <td>28.39</td>\n",
       "      <td>1.002</td>\n",
       "      <td>0.09374</td>\n",
       "      <td>4.193</td>\n",
       "      <td>0.3011</td>\n",
       "      <td>0.002570</td>\n",
       "    </tr>\n",
       "    <tr>\n",
       "      <th>2020-11-01 03:00:00</th>\n",
       "      <td>13700.10</td>\n",
       "      <td>386.75</td>\n",
       "      <td>1.534</td>\n",
       "      <td>0.2392</td>\n",
       "      <td>28.40</td>\n",
       "      <td>1.002</td>\n",
       "      <td>0.09355</td>\n",
       "      <td>4.177</td>\n",
       "      <td>0.3013</td>\n",
       "      <td>0.002574</td>\n",
       "    </tr>\n",
       "    <tr>\n",
       "      <th>2020-11-01 04:00:00</th>\n",
       "      <td>13683.91</td>\n",
       "      <td>386.57</td>\n",
       "      <td>1.529</td>\n",
       "      <td>0.2391</td>\n",
       "      <td>28.23</td>\n",
       "      <td>1.002</td>\n",
       "      <td>0.09338</td>\n",
       "      <td>4.157</td>\n",
       "      <td>0.3002</td>\n",
       "      <td>0.002567</td>\n",
       "    </tr>\n",
       "    <tr>\n",
       "      <th>2020-11-01 05:00:00</th>\n",
       "      <td>13705.51</td>\n",
       "      <td>386.08</td>\n",
       "      <td>1.531</td>\n",
       "      <td>0.2391</td>\n",
       "      <td>28.27</td>\n",
       "      <td>1.002</td>\n",
       "      <td>0.09315</td>\n",
       "      <td>4.143</td>\n",
       "      <td>0.3006</td>\n",
       "      <td>0.002611</td>\n",
       "    </tr>\n",
       "  </tbody>\n",
       "</table>\n",
       "</div>"
      ],
      "text/plain": [
       "                          BTC     ETH    SOL     XRP    BNB   USDT      ADA  \\\n",
       "time                                                                          \n",
       "2020-11-01 01:00:00  13770.78  389.16  1.556  0.2403  28.59  1.002  0.09378   \n",
       "2020-11-01 02:00:00  13721.73  387.91  1.553  0.2393  28.39  1.002  0.09374   \n",
       "2020-11-01 03:00:00  13700.10  386.75  1.534  0.2392  28.40  1.002  0.09355   \n",
       "2020-11-01 04:00:00  13683.91  386.57  1.529  0.2391  28.23  1.002  0.09338   \n",
       "2020-11-01 05:00:00  13705.51  386.08  1.531  0.2391  28.27  1.002  0.09315   \n",
       "\n",
       "                       DOT    LUNA      DOGE  \n",
       "time                                          \n",
       "2020-11-01 01:00:00  4.194  0.3030  0.002549  \n",
       "2020-11-01 02:00:00  4.193  0.3011  0.002570  \n",
       "2020-11-01 03:00:00  4.177  0.3013  0.002574  \n",
       "2020-11-01 04:00:00  4.157  0.3002  0.002567  \n",
       "2020-11-01 05:00:00  4.143  0.3006  0.002611  "
      ]
     },
     "execution_count": 3,
     "metadata": {},
     "output_type": "execute_result"
    }
   ],
   "source": [
    "cryptos = pd.read_csv(\"../data/crypto_1y.csv\", parse_dates=True, index_col=\"time\")\n",
    "cryptos.head()"
   ]
  },
  {
   "cell_type": "markdown",
   "metadata": {},
   "source": [
    "### Generalized CUSUM filter rule\n",
    "\n",
    "For simplicity, we do not allow short thus we always start by detecting a buy signal. Then we try to detect sell signal after a buy signal.\n",
    "\n",
    "To do later:\n",
    "1. Find optimal k, h value\n",
    "2. Optimize plots\n",
    "3. Backtest"
   ]
  },
  {
   "cell_type": "code",
   "execution_count": 4,
   "metadata": {},
   "outputs": [],
   "source": [
    "# should test for an optimal k, h\n",
    "k = 0.0005\n",
    "h = 10*k\n",
    "\n",
    "def trainTestSplit(df):\n",
    "    return df.loc[df.index<'2021-08-01', :], df.loc[df.index>='2021-08-01', :]\n",
    "\n",
    "\n",
    "def calculateReturn(df, coin: str):\n",
    "    df.loc[:, \"price\"] = df.loc[:, coin]\n",
    "    df.loc[:, \"logPrice\"] = np.log(df.loc[:, \"price\"])\n",
    "    df.loc[:, \"return\"] = df.loc[:, \"logPrice\"] - df.loc[:, \"logPrice\"].shift(1)\n",
    "    \n",
    "    df.loc[df.index[0], \"return\"] = 0\n",
    "    df.loc[df.index[0], 'signal'] = 0\n",
    "    cols = ['price', 'logPrice', 'return', 'signal']\n",
    "    return df.loc[:, cols]\n",
    "\n",
    "\n",
    "def detectSellSignal(df, start, feature, method):\n",
    "    df.loc[df.index[start], 'cMinus'] = 0\n",
    "    for i in range(start+1, len(df)):\n",
    "        if method == \"montgomery\":\n",
    "            cMinus = np.min([0, -df.loc[df.index[i-1], 'cMinus'] + df.loc[df.index[i], feature]+k])\n",
    "        else:\n",
    "            cMinus = np.min([0, df.loc[df.index[i-1], 'cMinus'] + df.loc[df.index[i], feature]-k])\n",
    "        df.loc[df.index[i], 'cMinus'] = cMinus\n",
    "        \n",
    "        if cMinus <= -h:\n",
    "            # sell signal appears\n",
    "            df.loc[df.index[i], 'signal'] = -1\n",
    "            return detectBuySignal(df, i, feature=feature, method=method)\n",
    "        else:\n",
    "            df.loc[df.index[i], 'signal'] = 0\n",
    "            \n",
    "    return df\n",
    "\n",
    "\n",
    "def detectBuySignal(df, start, feature, method):\n",
    "    df.loc[df.index[start], \"cPlus\"] = 0\n",
    "    for i in range(start+1, len(df)):\n",
    "        cPlus = np.max([0, df.loc[df.index[i-1], 'cPlus'] + df.loc[df.index[i], feature]-k])\n",
    "        df.loc[df.index[i], 'cPlus'] = cPlus\n",
    "        \n",
    "        if cPlus >= h:\n",
    "            # buy signal appears\n",
    "            df.loc[df.index[i], 'signal'] = 1\n",
    "            return detectSellSignal(df, i, feature=feature, method=method)\n",
    "        else:\n",
    "            df.loc[df.index[i], 'signal'] = 0\n",
    "            \n",
    "    return df\n",
    "\n",
    "\n",
    "def createTradeSignal(df, feature='return', method=\"montgomery\"):\n",
    "    return detectBuySignal(df, start=0, feature=feature, method=method)"
   ]
  },
  {
   "cell_type": "code",
   "execution_count": null,
   "metadata": {},
   "outputs": [],
   "source": [
    "traindf, testdf = trainTestSplit(cryptos)\n",
    "\n",
    "coin = \"BTC\"\n",
    "\n",
    "df = (traindf\n",
    "      .pipe(calculateReturn, coin)\n",
    "      .pipe(createTradeSignal)) # method=\"46\""
   ]
  },
  {
   "cell_type": "code",
   "execution_count": null,
   "metadata": {},
   "outputs": [],
   "source": [
    "def plotPriceWithSignal(df):\n",
    "    # optimze looking later\n",
    "    df.loc[:, 'price'].plot()\n",
    "    buy = df.loc[df['signal']==1, 'price']\n",
    "    plt.scatter(buy.index, buy, c=\"g\", marker=\"^\", label=\"Buy signal\")\n",
    "    sell = df.loc[df['signal']==-1, 'price']\n",
    "    plt.scatter(sell.index, sell, c=\"r\", marker=\"v\", label=\"Sell signal\")\n",
    "    plt.legend(loc='best')\n",
    "    plt.show()\n",
    "    \n",
    "plotPriceWithSignal(df.head(100))"
   ]
  },
  {
   "cell_type": "code",
   "execution_count": null,
   "metadata": {},
   "outputs": [],
   "source": [
    "def plotCUSUM(df):\n",
    "    plt.plot(df.index,df['cPlus'], color='b', marker='h', markersize=6)\n",
    "    plt.plot(df.index,df['cMinus'], color='r', marker='h', markersize=6)\n",
    "    plt.plot(df.index,np.array([h]*len(df.index)),color='g')\n",
    "    plt.plot(df.index,np.array([-h]*len(df.index)),color='g')\n",
    "    plt.show()\n",
    "    \n",
    "\n",
    "plotCUSUM(df.head(100))"
   ]
  },
  {
   "cell_type": "code",
   "execution_count": null,
   "metadata": {},
   "outputs": [],
   "source": [
    "### to delete\n",
    "# calculate profit\n",
    "buyPrice = df.loc[df['signal']==1, 'price']\n",
    "sellPrice = df.loc[df['signal']==-1, 'price']\n",
    "buyPriceEven = buyPrice[:len(sellPrice)]\n",
    "np.sum((sellPrice.values-buyPriceEven.values)/buyPriceEven.values)"
   ]
  },
  {
   "cell_type": "markdown",
   "metadata": {},
   "source": [
    "## 2. Yi *et al* (2006)\n",
    "\n",
    "Take transaction fee of each buying and selling into consideration for each trading cycle."
   ]
  },
  {
   "cell_type": "code",
   "execution_count": null,
   "metadata": {},
   "outputs": [],
   "source": [
    "def calculateTransactionFee(df):\n",
    "    # get trading prices\n",
    "    buyPrice = df.loc[df['signal']==1, 'price']\n",
    "    sellPrice = df.loc[df['signal']==-1, 'price']\n",
    "    buyPriceEven = buyPrice[:len(sellPrice)]\n",
    "\n",
    "    profitOfEachCycle = []\n",
    "    for buy, sell in zip(buyPriceEven, sellPrice):\n",
    "        profitOfEachCycle.append( sell/buy )\n",
    "\n",
    "    totalProfit = np.prod(profitOfEachCycle)\n",
    "\n",
    "    buyTime = df.loc[df['signal']==1, :].index\n",
    "    sellTime = df.loc[df['signal']==-1, :].index\n",
    "    buyTimeEven = buyTime[:len(sellTime)]\n",
    "\n",
    "    cycleLength = [] \n",
    "    for buy, sell in zip(buyTimeEven, sellTime):\n",
    "        cycleLength.append(sell - buy)\n",
    "\n",
    "    totalCycleLength = np.sum(cycleLength) / timedelta(hours=1) # hours\n",
    "    # average porfit without transaction fee\n",
    "    averageHourlyProfit = (totalProfit-1) / totalCycleLength\n",
    "\n",
    "    feeRate = 0.005\n",
    "    totalProfitWithFee = totalProfit * (1-feeRate)**(2*len(buyTimeEven))\n",
    "    # average porfit with transaction fee\n",
    "    averageHourlyProfitWithFee = (totalProfitWithFee-1) / totalCycleLength\n",
    "\n",
    "    return (totalProfit, totalProfitWithFee,\n",
    "            averageHourlyProfit, averageHourlyProfitWithFee)"
   ]
  },
  {
   "cell_type": "code",
   "execution_count": null,
   "metadata": {},
   "outputs": [],
   "source": [
    "profitMetrics = calculateTransactionFee(df)\n",
    "profitMetrics"
   ]
  },
  {
   "cell_type": "markdown",
   "metadata": {},
   "source": [
    "## 3. Žmuk (2016)\n",
    "\n",
    "Deal with autocorrelation in our data.\n",
    "\n",
    "### ARIMA(p,d,q)"
   ]
  },
  {
   "cell_type": "code",
   "execution_count": null,
   "metadata": {},
   "outputs": [],
   "source": [
    "def applyARIMA(df, coin):\n",
    "    df.loc[:, \"price\"] = df.loc[:, coin]\n",
    "    autoARIMA = auto_arima(df['price'],\n",
    "                       start_p=0, max_p=5,\n",
    "                       d=0, max_d=2,\n",
    "                       start_q=0, max_q=5)\n",
    "    print(\"Auto ARIMA parameters: \", autoARIMA.order)\n",
    "    model = ARIMA(df['price'], order=autoARIMA.order)\n",
    "    model_fit = model.fit()\n",
    "    df.loc[:, 'residual'] = model_fit.resid\n",
    "    return df\n",
    "\n",
    "\n",
    "def plotBeforeAndAfterARIMA(df):\n",
    "    autocorrelation_plot(df['price'], label=\"Price\")\n",
    "    autocorrelation_plot(df['residual'], label=\"ARIMA\")\n",
    "    plt.legend(loc='best')\n",
    "    plt.show()"
   ]
  },
  {
   "cell_type": "markdown",
   "metadata": {},
   "source": [
    "to do:\n",
    "\n",
    "1. residual-based cusum\n",
    "2. grid search\n",
    "2. backtest\n",
    "3. risk-adjusted"
   ]
  },
  {
   "cell_type": "markdown",
   "metadata": {},
   "source": [
    "## 4. Chen and Huang (2012)\n",
    "\n",
    "### Residual based CUSUM chart"
   ]
  },
  {
   "cell_type": "code",
   "execution_count": null,
   "metadata": {},
   "outputs": [],
   "source": [
    "def calculateResidualFeature(df):\n",
    "    std = np.std(df.loc[:, 'residual'])\n",
    "    df.loc[:, 'residualFeature'] = df.loc[:, 'residual'] / std\n",
    "    return df"
   ]
  },
  {
   "cell_type": "code",
   "execution_count": null,
   "metadata": {},
   "outputs": [],
   "source": [
    "coin = \"BTC\"\n",
    "\n",
    "df = (traindf\n",
    "      .pipe(applyARIMA, coin)\n",
    "      .pipe(calculateResidualFeature)\n",
    "      .pipe(createTradeSignal, feature='residualFeature')\n",
    "     )\n",
    "\n",
    "plotBeforeAndAfterARIMA(df.head(100))\n",
    "plotPriceWithSignal(df.head(100))\n",
    "plotCUSUM(df.head(100))"
   ]
  },
  {
   "cell_type": "markdown",
   "metadata": {},
   "source": [
    "## 5.  Backtest"
   ]
  },
  {
   "cell_type": "code",
   "execution_count": null,
   "metadata": {},
   "outputs": [],
   "source": []
  },
  {
   "cell_type": "code",
   "execution_count": null,
   "metadata": {},
   "outputs": [],
   "source": []
  },
  {
   "cell_type": "markdown",
   "metadata": {},
   "source": [
    "## 6. GridSearchCV for k, h"
   ]
  },
  {
   "cell_type": "code",
   "execution_count": null,
   "metadata": {},
   "outputs": [],
   "source": []
  },
  {
   "cell_type": "code",
   "execution_count": null,
   "metadata": {},
   "outputs": [],
   "source": []
  },
  {
   "cell_type": "code",
   "execution_count": null,
   "metadata": {},
   "outputs": [],
   "source": []
  },
  {
   "cell_type": "code",
   "execution_count": null,
   "metadata": {},
   "outputs": [],
   "source": []
  },
  {
   "cell_type": "code",
   "execution_count": null,
   "metadata": {},
   "outputs": [],
   "source": []
  },
  {
   "cell_type": "code",
   "execution_count": null,
   "metadata": {},
   "outputs": [],
   "source": []
  },
  {
   "cell_type": "code",
   "execution_count": null,
   "metadata": {},
   "outputs": [],
   "source": []
  }
 ],
 "metadata": {
  "kernelspec": {
   "display_name": "Python 3",
   "language": "python",
   "name": "python3"
  },
  "language_info": {
   "codemirror_mode": {
    "name": "ipython",
    "version": 3
   },
   "file_extension": ".py",
   "mimetype": "text/x-python",
   "name": "python",
   "nbconvert_exporter": "python",
   "pygments_lexer": "ipython3",
   "version": "3.8.5"
  }
 },
 "nbformat": 4,
 "nbformat_minor": 4
}
