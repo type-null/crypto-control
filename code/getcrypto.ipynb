{
 "cells": [
  {
   "cell_type": "code",
   "execution_count": 1,
   "metadata": {},
   "outputs": [],
   "source": [
    "from getcrypto import get_historical, get_panel\n",
    "import pandas as pd\n",
    "import matplotlib.pyplot as plt"
   ]
  },
  {
   "cell_type": "code",
   "execution_count": 3,
   "metadata": {},
   "outputs": [],
   "source": [
    "# watch list: top seven cryptocurrencies (ranked by market capitalization) as of November 2021\n",
    "# Bitcoin, Ethereum, Solana, Ripple, Binance Coin, Tether, Cardano, Polkadot, Terra, Dogecoin\n",
    "symbols   = [\"BTC\", \"ETH\", \"SOL\", \"XRP\", \"BNB\", \"USDT\", \"ADA\", \"DOT\", \"LUNA\", \"DOGE\"]\n",
    "\n",
    "# get 1 year data\n",
    "from_date = \"2020-11-01 00:00\" # 1604188800 11/01/2020 @ 12:00am (UTC)\n",
    "to_date   = \"2021-11-01 00:00\" # 1635724800 11/01/2021 @ 12:00am (UTC)"
   ]
  },
  {
   "cell_type": "code",
   "execution_count": 4,
   "metadata": {},
   "outputs": [],
   "source": [
    "df = get_panel(symbols, from_date, to_date, idx=False)"
   ]
  },
  {
   "cell_type": "code",
   "execution_count": 6,
   "metadata": {},
   "outputs": [],
   "source": [
    "df.to_csv('crypto_1y.csv')"
   ]
  },
  {
   "cell_type": "code",
   "execution_count": null,
   "metadata": {},
   "outputs": [],
   "source": []
  }
 ],
 "metadata": {
  "kernelspec": {
   "display_name": "Python 3",
   "language": "python",
   "name": "python3"
  },
  "language_info": {
   "codemirror_mode": {
    "name": "ipython",
    "version": 3
   },
   "file_extension": ".py",
   "mimetype": "text/x-python",
   "name": "python",
   "nbconvert_exporter": "python",
   "pygments_lexer": "ipython3",
   "version": "3.7.0"
  }
 },
 "nbformat": 4,
 "nbformat_minor": 4
}
